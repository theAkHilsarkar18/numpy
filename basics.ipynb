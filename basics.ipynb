{
 "cells": [
  {
   "cell_type": "code",
   "execution_count": 1,
   "id": "b502ef22-9658-4f45-be12-d45189ce8173",
   "metadata": {},
   "outputs": [],
   "source": [
    "import numpy as np"
   ]
  },
  {
   "cell_type": "code",
   "execution_count": 2,
   "id": "6203f4cc-015b-481c-987a-ab8021b9bd6f",
   "metadata": {},
   "outputs": [
    {
     "name": "stdout",
     "output_type": "stream",
     "text": [
      "2.1.2\n"
     ]
    }
   ],
   "source": [
    "print(np.__version__)"
   ]
  },
  {
   "cell_type": "code",
   "execution_count": 3,
   "id": "3083fa8a-1184-4655-bd4d-9f5886caa5e6",
   "metadata": {},
   "outputs": [],
   "source": [
    "arr = np.array([1,2,3,4,5])"
   ]
  },
  {
   "cell_type": "code",
   "execution_count": 4,
   "id": "8e911e1a-b6fe-4a68-9182-0d254023dd29",
   "metadata": {},
   "outputs": [
    {
     "data": {
      "text/plain": [
       "numpy.ndarray"
      ]
     },
     "execution_count": 4,
     "metadata": {},
     "output_type": "execute_result"
    }
   ],
   "source": [
    "type(arr)"
   ]
  },
  {
   "cell_type": "code",
   "execution_count": 5,
   "id": "c31dd85c-f738-4fef-a703-ce9752e0c732",
   "metadata": {},
   "outputs": [],
   "source": [
    "a = np.array(10)\n",
    "b = np.array([1,2,3])\n",
    "c = np.array([[1,2],[3,4]])"
   ]
  },
  {
   "cell_type": "code",
   "execution_count": 6,
   "id": "00e50b83-32c0-418b-aa15-f1e488070a9e",
   "metadata": {},
   "outputs": [
    {
     "data": {
      "text/plain": [
       "0"
      ]
     },
     "execution_count": 6,
     "metadata": {},
     "output_type": "execute_result"
    }
   ],
   "source": [
    "a.ndim"
   ]
  },
  {
   "cell_type": "code",
   "execution_count": null,
   "id": "b2a25780-8a42-41fe-bc07-728b8d7b3844",
   "metadata": {},
   "outputs": [],
   "source": []
  },
  {
   "cell_type": "code",
   "execution_count": 8,
   "id": "d9a83540-8d56-468f-b338-2d75f0ee0bd3",
   "metadata": {},
   "outputs": [
    {
     "data": {
      "text/plain": [
       "1"
      ]
     },
     "execution_count": 8,
     "metadata": {},
     "output_type": "execute_result"
    }
   ],
   "source": [
    "b.ndim"
   ]
  },
  {
   "cell_type": "code",
   "execution_count": 9,
   "id": "c9d10f88-3b84-4c2a-a949-1758dda2f965",
   "metadata": {},
   "outputs": [],
   "source": [
    "d = np.array([1,2,3,4],ndmin=5)"
   ]
  },
  {
   "cell_type": "code",
   "execution_count": 10,
   "id": "353c1971-06ef-44a4-afab-a2c38afb1dea",
   "metadata": {},
   "outputs": [
    {
     "data": {
      "text/plain": [
       "array([[[[[1, 2, 3, 4]]]]])"
      ]
     },
     "execution_count": 10,
     "metadata": {},
     "output_type": "execute_result"
    }
   ],
   "source": [
    "d"
   ]
  },
  {
   "cell_type": "code",
   "execution_count": 11,
   "id": "68191b5e-e07d-4178-a96c-45778fd233a1",
   "metadata": {},
   "outputs": [
    {
     "data": {
      "text/plain": [
       "np.int64(1)"
      ]
     },
     "execution_count": 11,
     "metadata": {},
     "output_type": "execute_result"
    }
   ],
   "source": [
    "d[0][0][0][0][0]"
   ]
  },
  {
   "cell_type": "code",
   "execution_count": 12,
   "id": "632f4a28-2757-4a4d-8eae-9889bdfae83c",
   "metadata": {},
   "outputs": [
    {
     "data": {
      "text/plain": [
       "np.int64(1)"
      ]
     },
     "execution_count": 12,
     "metadata": {},
     "output_type": "execute_result"
    }
   ],
   "source": [
    "b[0]"
   ]
  },
  {
   "cell_type": "code",
   "execution_count": 15,
   "id": "53ba0eab-0ed7-478d-8b11-c791d8d91d6b",
   "metadata": {},
   "outputs": [
    {
     "name": "stdout",
     "output_type": "stream",
     "text": [
      "3\n"
     ]
    }
   ],
   "source": [
    "print(d[0][0][0][0][2])"
   ]
  },
  {
   "cell_type": "code",
   "execution_count": 20,
   "id": "c33af7e1-271e-412e-961f-7f300f0a6147",
   "metadata": {},
   "outputs": [
    {
     "data": {
      "text/plain": [
       "np.int64(3)"
      ]
     },
     "execution_count": 20,
     "metadata": {},
     "output_type": "execute_result"
    }
   ],
   "source": [
    "c[1,0]"
   ]
  },
  {
   "cell_type": "code",
   "execution_count": 21,
   "id": "f2192990-a76f-455f-a7fa-464c2ee92ec2",
   "metadata": {},
   "outputs": [
    {
     "name": "stdout",
     "output_type": "stream",
     "text": [
      "[[1 2]\n",
      " [3 4]]\n"
     ]
    }
   ],
   "source": [
    "print(c)"
   ]
  },
  {
   "cell_type": "code",
   "execution_count": 22,
   "id": "9c4d9907-08e7-4eca-9289-6c2c976de31e",
   "metadata": {},
   "outputs": [
    {
     "name": "stdout",
     "output_type": "stream",
     "text": [
      "4\n"
     ]
    }
   ],
   "source": [
    "print(c[1,-1])"
   ]
  },
  {
   "cell_type": "code",
   "execution_count": 23,
   "id": "1c0cfbb3-357d-412e-9114-3a9163eda5f8",
   "metadata": {},
   "outputs": [],
   "source": [
    "a = np.array([1,2,3,4,5,6,7,8,9])"
   ]
  },
  {
   "cell_type": "code",
   "execution_count": 24,
   "id": "77da9524-08bd-434f-8891-bf7f76be1877",
   "metadata": {},
   "outputs": [
    {
     "name": "stdout",
     "output_type": "stream",
     "text": [
      "[1 2 3 4 5 6 7 8 9]\n"
     ]
    }
   ],
   "source": [
    "print(a)"
   ]
  },
  {
   "cell_type": "code",
   "execution_count": 25,
   "id": "f9eae4bd-3ce5-4fd0-b1bc-4c51d2dda82c",
   "metadata": {},
   "outputs": [
    {
     "name": "stdout",
     "output_type": "stream",
     "text": [
      "[2 3 4 5]\n"
     ]
    }
   ],
   "source": [
    "print(a[1:5])"
   ]
  },
  {
   "cell_type": "code",
   "execution_count": 26,
   "id": "daaae882-d539-4262-a206-f47dbabd0b25",
   "metadata": {},
   "outputs": [
    {
     "name": "stdout",
     "output_type": "stream",
     "text": [
      "[2 3 4 5 6 7 8 9]\n"
     ]
    }
   ],
   "source": [
    "print(a[1:])"
   ]
  },
  {
   "cell_type": "code",
   "execution_count": 27,
   "id": "7f67a98b-b38f-42c5-8a22-47485bc5267f",
   "metadata": {},
   "outputs": [
    {
     "name": "stdout",
     "output_type": "stream",
     "text": [
      "[1 2 3 4 5 6 7]\n"
     ]
    }
   ],
   "source": [
    "print(a[:7])"
   ]
  },
  {
   "cell_type": "code",
   "execution_count": 28,
   "id": "ace37431-28e8-4f3a-b515-83c9384f29c4",
   "metadata": {},
   "outputs": [
    {
     "name": "stdout",
     "output_type": "stream",
     "text": [
      "[7 8]\n"
     ]
    }
   ],
   "source": [
    "print(a[-3:-1])"
   ]
  },
  {
   "cell_type": "code",
   "execution_count": 31,
   "id": "ff8c5ec0-5638-4c9b-b15a-4960d84766b7",
   "metadata": {},
   "outputs": [
    {
     "name": "stdout",
     "output_type": "stream",
     "text": [
      "[1 6]\n"
     ]
    }
   ],
   "source": [
    "print(a[::5])"
   ]
  },
  {
   "cell_type": "code",
   "execution_count": 35,
   "id": "63deb272-b14c-473c-bc9f-5cbce70fb638",
   "metadata": {},
   "outputs": [],
   "source": [
    "twoD = np.array([[1,2,3,4],[5,6,7,8]])"
   ]
  },
  {
   "cell_type": "code",
   "execution_count": 36,
   "id": "d8cf8b33-f27a-4735-be8a-6d254b4f1532",
   "metadata": {},
   "outputs": [
    {
     "name": "stdout",
     "output_type": "stream",
     "text": [
      "[7]\n"
     ]
    }
   ],
   "source": [
    "print(twoD[1,2:3])"
   ]
  },
  {
   "cell_type": "code",
   "execution_count": 42,
   "id": "1124959e-4c14-4083-858c-ce1153c6e4d6",
   "metadata": {},
   "outputs": [
    {
     "name": "stdout",
     "output_type": "stream",
     "text": [
      "[7]\n"
     ]
    }
   ],
   "source": [
    "print(twoD[1,2:3])"
   ]
  },
  {
   "cell_type": "code",
   "execution_count": 43,
   "id": "1b656757-2e37-4dd1-a940-7d7c2ca458e7",
   "metadata": {},
   "outputs": [
    {
     "name": "stdout",
     "output_type": "stream",
     "text": [
      "[3]\n"
     ]
    }
   ],
   "source": [
    "print(twoD[0:1,2])"
   ]
  },
  {
   "cell_type": "code",
   "execution_count": 44,
   "id": "e8900924-39c4-4d19-8954-7b8ff0bb0fa0",
   "metadata": {},
   "outputs": [
    {
     "name": "stdout",
     "output_type": "stream",
     "text": [
      "[[2 3]\n",
      " [6 7]]\n"
     ]
    }
   ],
   "source": [
    "print(twoD[0:2,1:3])"
   ]
  },
  {
   "cell_type": "code",
   "execution_count": 45,
   "id": "0eb195fa-8d63-415f-a422-73913edfa8a4",
   "metadata": {},
   "outputs": [
    {
     "name": "stdout",
     "output_type": "stream",
     "text": [
      "[3 7]\n"
     ]
    }
   ],
   "source": [
    "print(twoD[0:4,2])"
   ]
  },
  {
   "cell_type": "code",
   "execution_count": 46,
   "id": "e35e1f9f-9d4d-4539-b140-102660a0d451",
   "metadata": {},
   "outputs": [
    {
     "name": "stdout",
     "output_type": "stream",
     "text": [
      "[3 7]\n"
     ]
    }
   ],
   "source": [
    "print(twoD[0:3,2])"
   ]
  },
  {
   "cell_type": "code",
   "execution_count": 47,
   "id": "1f3e3a09-6a18-4b23-85ef-068e8f37c8e3",
   "metadata": {},
   "outputs": [
    {
     "name": "stdout",
     "output_type": "stream",
     "text": [
      "[]\n"
     ]
    }
   ],
   "source": [
    "print(twoD[0:0,2])"
   ]
  },
  {
   "cell_type": "code",
   "execution_count": 53,
   "id": "97a4aa2a-fbef-422c-a12c-60cd11ca5a64",
   "metadata": {},
   "outputs": [
    {
     "name": "stdout",
     "output_type": "stream",
     "text": [
      "[3 7]\n"
     ]
    }
   ],
   "source": [
    "print(twoD[0:2,2])"
   ]
  },
  {
   "cell_type": "code",
   "execution_count": 55,
   "id": "7fb4519c-98b8-4cca-a171-94fc1ef99e7c",
   "metadata": {},
   "outputs": [
    {
     "name": "stdout",
     "output_type": "stream",
     "text": [
      "[3]\n"
     ]
    }
   ],
   "source": [
    "print(twoD[0:1,2])"
   ]
  },
  {
   "cell_type": "code",
   "execution_count": 56,
   "id": "1fc5673c-4877-4f2c-83b2-5f0e95e748b2",
   "metadata": {},
   "outputs": [
    {
     "name": "stdout",
     "output_type": "stream",
     "text": [
      "[[1 2 3 4]\n",
      " [5 6 7 8]]\n"
     ]
    }
   ],
   "source": [
    "print(twoD)"
   ]
  },
  {
   "cell_type": "code",
   "execution_count": 57,
   "id": "6fbfec50-21db-4f32-a902-5b6fcd46839a",
   "metadata": {},
   "outputs": [
    {
     "name": "stdout",
     "output_type": "stream",
     "text": [
      "int64\n"
     ]
    }
   ],
   "source": [
    "print(twoD.dtype)"
   ]
  },
  {
   "cell_type": "code",
   "execution_count": 58,
   "id": "e9e5d1a8-1aa1-4db2-a4f2-151a8d666a9e",
   "metadata": {},
   "outputs": [],
   "source": [
    "fruits = np.array([\"apple\",\"banana\",\"Kiwi\",\"mango\"])"
   ]
  },
  {
   "cell_type": "code",
   "execution_count": 59,
   "id": "d049d741-0d8b-4777-b360-ed6aad0de785",
   "metadata": {},
   "outputs": [
    {
     "name": "stdout",
     "output_type": "stream",
     "text": [
      "['apple' 'banana' 'Kiwi' 'mango']\n"
     ]
    }
   ],
   "source": [
    "print(fruits)"
   ]
  },
  {
   "cell_type": "code",
   "execution_count": 60,
   "id": "86e479bf-1486-4e09-bd49-6e9d250d8c79",
   "metadata": {},
   "outputs": [
    {
     "name": "stdout",
     "output_type": "stream",
     "text": [
      "<U6\n"
     ]
    }
   ],
   "source": [
    "print(fruits.dtype)"
   ]
  },
  {
   "cell_type": "code",
   "execution_count": 65,
   "id": "b7f36261-df8f-409b-8be7-e4ccadeb51ec",
   "metadata": {},
   "outputs": [],
   "source": [
    "intArr = np.array([1,2,3,4,5,6],dtype=\"i4\")"
   ]
  },
  {
   "cell_type": "code",
   "execution_count": 66,
   "id": "0aa97ff0-be2b-440e-b4c5-8de157bcdc4d",
   "metadata": {},
   "outputs": [
    {
     "name": "stdout",
     "output_type": "stream",
     "text": [
      "int32\n"
     ]
    }
   ],
   "source": [
    "print(intArr.dtype)"
   ]
  },
  {
   "cell_type": "code",
   "execution_count": 67,
   "id": "c054fc6a-6257-42f3-920f-c689fccfc4fb",
   "metadata": {},
   "outputs": [
    {
     "name": "stdout",
     "output_type": "stream",
     "text": [
      "int32\n"
     ]
    }
   ],
   "source": [
    "print(intArr.dtype)"
   ]
  },
  {
   "cell_type": "code",
   "execution_count": 74,
   "id": "66c9eaf2-611e-4f37-8924-bf80839a1854",
   "metadata": {},
   "outputs": [
    {
     "ename": "ValueError",
     "evalue": "could not convert string to float: '?'",
     "output_type": "error",
     "traceback": [
      "\u001b[1;31m---------------------------------------------------------------------------\u001b[0m",
      "\u001b[1;31mValueError\u001b[0m                                Traceback (most recent call last)",
      "Cell \u001b[1;32mIn[74], line 1\u001b[0m\n\u001b[1;32m----> 1\u001b[0m dum \u001b[38;5;241m=\u001b[39m \u001b[43mnp\u001b[49m\u001b[38;5;241;43m.\u001b[39;49m\u001b[43marray\u001b[49m\u001b[43m(\u001b[49m\u001b[43m[\u001b[49m\u001b[38;5;124;43m\"\u001b[39;49m\u001b[38;5;124;43m?\u001b[39;49m\u001b[38;5;124;43m\"\u001b[39;49m\u001b[43m,\u001b[49m\u001b[38;5;241;43m2\u001b[39;49m\u001b[43m,\u001b[49m\u001b[38;5;241;43m3\u001b[39;49m\u001b[43m,\u001b[49m\u001b[38;5;241;43m4\u001b[39;49m\u001b[43m]\u001b[49m\u001b[43m,\u001b[49m\u001b[43mdtype\u001b[49m\u001b[38;5;241;43m=\u001b[39;49m\u001b[38;5;124;43m\"\u001b[39;49m\u001b[38;5;124;43mf\u001b[39;49m\u001b[38;5;124;43m\"\u001b[39;49m\u001b[43m)\u001b[49m\n",
      "\u001b[1;31mValueError\u001b[0m: could not convert string to float: '?'"
     ]
    }
   ],
   "source": [
    "dum = np.array([\"?\",2,3,4],dtype=\"f\")"
   ]
  },
  {
   "cell_type": "code",
   "execution_count": 73,
   "id": "e70dd87a-47e6-421d-b385-9addb5de3a39",
   "metadata": {},
   "outputs": [
    {
     "name": "stdout",
     "output_type": "stream",
     "text": [
      "[1.1 2.  3.  4. ]\n"
     ]
    }
   ],
   "source": [
    "print(dum)"
   ]
  },
  {
   "cell_type": "code",
   "execution_count": 75,
   "id": "612227aa-2b0a-4647-b1d0-0ae8f3bbd7cd",
   "metadata": {},
   "outputs": [],
   "source": [
    "change = np.array([1.1,1.2,1.3])"
   ]
  },
  {
   "cell_type": "code",
   "execution_count": 76,
   "id": "78b6e707-96a0-4534-a8ff-487c1214e26b",
   "metadata": {},
   "outputs": [
    {
     "name": "stdout",
     "output_type": "stream",
     "text": [
      "[1.1 1.2 1.3]\n"
     ]
    }
   ],
   "source": [
    "print(change)"
   ]
  },
  {
   "cell_type": "code",
   "execution_count": 78,
   "id": "9b75bb7c-6379-4732-b162-05c52cfbeccf",
   "metadata": {},
   "outputs": [
    {
     "data": {
      "text/plain": [
       "array([1, 1, 1])"
      ]
     },
     "execution_count": 78,
     "metadata": {},
     "output_type": "execute_result"
    }
   ],
   "source": [
    "change.astype(int)"
   ]
  },
  {
   "cell_type": "code",
   "execution_count": 79,
   "id": "78d4e344-3ea8-4258-b03b-9f2bd9d227ea",
   "metadata": {},
   "outputs": [
    {
     "name": "stdout",
     "output_type": "stream",
     "text": [
      "[1.1 1.2 1.3]\n"
     ]
    }
   ],
   "source": [
    "print(change)"
   ]
  },
  {
   "cell_type": "code",
   "execution_count": 80,
   "id": "73ea7574-fa24-46aa-999a-a23e342c5f8b",
   "metadata": {},
   "outputs": [
    {
     "data": {
      "text/plain": [
       "array([ True,  True,  True])"
      ]
     },
     "execution_count": 80,
     "metadata": {},
     "output_type": "execute_result"
    }
   ],
   "source": [
    "change.astype(bool)"
   ]
  },
  {
   "cell_type": "code",
   "execution_count": 81,
   "id": "6592046c-e7c1-495e-a84e-dfcdded46506",
   "metadata": {},
   "outputs": [],
   "source": [
    "change[1] = 0"
   ]
  },
  {
   "cell_type": "code",
   "execution_count": 82,
   "id": "fed50e15-3596-4d85-b942-396440157d55",
   "metadata": {},
   "outputs": [
    {
     "name": "stdout",
     "output_type": "stream",
     "text": [
      "[1.1 0.  1.3]\n"
     ]
    }
   ],
   "source": [
    "print(change)"
   ]
  },
  {
   "cell_type": "code",
   "execution_count": 83,
   "id": "030da7ed-c4cc-4992-98d2-9b5796667691",
   "metadata": {},
   "outputs": [
    {
     "data": {
      "text/plain": [
       "array([ True, False,  True])"
      ]
     },
     "execution_count": 83,
     "metadata": {},
     "output_type": "execute_result"
    }
   ],
   "source": [
    "change.astype(bool)"
   ]
  },
  {
   "cell_type": "code",
   "execution_count": 84,
   "id": "c447cd6b-3c53-4fc4-bbbd-4a6c0dca1e74",
   "metadata": {},
   "outputs": [],
   "source": [
    "copy = fruits.copy()"
   ]
  },
  {
   "cell_type": "code",
   "execution_count": 85,
   "id": "b15cfeef-a515-40e7-a44c-5e7cf49493fb",
   "metadata": {},
   "outputs": [
    {
     "name": "stdout",
     "output_type": "stream",
     "text": [
      "['apple' 'banana' 'Kiwi' 'mango']\n",
      "['apple' 'banana' 'Kiwi' 'mango']\n"
     ]
    }
   ],
   "source": [
    "print(copy)\n",
    "print(fruits)"
   ]
  },
  {
   "cell_type": "code",
   "execution_count": 86,
   "id": "03ac0f4e-2e0d-47a2-bf5b-1382512bad1d",
   "metadata": {},
   "outputs": [
    {
     "data": {
      "text/plain": [
       "array(['apple', 'banana', 'Kiwi', 'mango'], dtype='<U6')"
      ]
     },
     "execution_count": 86,
     "metadata": {},
     "output_type": "execute_result"
    }
   ],
   "source": [
    "copy"
   ]
  },
  {
   "cell_type": "code",
   "execution_count": 87,
   "id": "94e6f0af-dec0-4581-9485-89220957c1e3",
   "metadata": {},
   "outputs": [],
   "source": [
    "copy[1] = \"Pineple\""
   ]
  },
  {
   "cell_type": "code",
   "execution_count": 88,
   "id": "c0a91d9b-2bce-4a9b-a294-d6826d93db25",
   "metadata": {},
   "outputs": [
    {
     "name": "stdout",
     "output_type": "stream",
     "text": [
      "['apple' 'Pinepl' 'Kiwi' 'mango']\n",
      "['apple' 'banana' 'Kiwi' 'mango']\n"
     ]
    }
   ],
   "source": [
    "print(copy)\n",
    "print(fruits)"
   ]
  },
  {
   "cell_type": "code",
   "execution_count": 89,
   "id": "5f0f2956-533d-47b3-b3bb-fdb852e98270",
   "metadata": {},
   "outputs": [],
   "source": [
    "view = copy.view()"
   ]
  },
  {
   "cell_type": "code",
   "execution_count": 90,
   "id": "0819ed65-b9e1-4b14-b5e6-3f75e56c1319",
   "metadata": {},
   "outputs": [
    {
     "name": "stdout",
     "output_type": "stream",
     "text": [
      "['apple' 'Pinepl' 'Kiwi' 'mango']\n",
      "['apple' 'banana' 'Kiwi' 'mango']\n",
      "['apple' 'Pinepl' 'Kiwi' 'mango']\n"
     ]
    }
   ],
   "source": [
    "print(copy)\n",
    "print(fruits)\n",
    "print(view)"
   ]
  },
  {
   "cell_type": "code",
   "execution_count": 91,
   "id": "a4a2a754-90f7-45ba-bc61-8eb0084e5a24",
   "metadata": {},
   "outputs": [],
   "source": [
    "copy[0] = \"Guava\""
   ]
  },
  {
   "cell_type": "code",
   "execution_count": 92,
   "id": "8e884ada-435b-4b1e-a951-66bfafed56c6",
   "metadata": {},
   "outputs": [
    {
     "name": "stdout",
     "output_type": "stream",
     "text": [
      "['Guava' 'Pinepl' 'Kiwi' 'mango']\n",
      "['apple' 'banana' 'Kiwi' 'mango']\n",
      "['Guava' 'Pinepl' 'Kiwi' 'mango']\n"
     ]
    }
   ],
   "source": [
    "print(copy)\n",
    "print(fruits)\n",
    "print(view)"
   ]
  },
  {
   "cell_type": "code",
   "execution_count": 93,
   "id": "9991037d-9322-4b1f-9bc7-13f3c21a981b",
   "metadata": {},
   "outputs": [
    {
     "name": "stdout",
     "output_type": "stream",
     "text": [
      "None\n",
      "None\n",
      "['Guava' 'Pinepl' 'Kiwi' 'mango']\n"
     ]
    }
   ],
   "source": [
    "print(copy.base)\n",
    "print(fruits.base)\n",
    "print(view.base)"
   ]
  },
  {
   "cell_type": "code",
   "execution_count": 94,
   "id": "c68b491c-f21a-451a-8af7-34a10bd5772f",
   "metadata": {},
   "outputs": [
    {
     "name": "stdout",
     "output_type": "stream",
     "text": [
      "(4,)\n"
     ]
    }
   ],
   "source": [
    "print(view.shape)"
   ]
  },
  {
   "cell_type": "code",
   "execution_count": 95,
   "id": "9abf382a-ef04-4aa2-acdf-79d4b9fa04d2",
   "metadata": {},
   "outputs": [
    {
     "name": "stdout",
     "output_type": "stream",
     "text": [
      "(2, 2)\n"
     ]
    }
   ],
   "source": [
    "print(c.shape)"
   ]
  },
  {
   "cell_type": "code",
   "execution_count": 96,
   "id": "3e558287-4f6f-4875-8912-4daebef76c21",
   "metadata": {},
   "outputs": [],
   "source": [
    "new = [1,2,3,4,5,6,7,8,9,10]"
   ]
  },
  {
   "cell_type": "code",
   "execution_count": 98,
   "id": "67af6ffd-268b-401d-9600-5723ea1d1366",
   "metadata": {},
   "outputs": [
    {
     "name": "stdout",
     "output_type": "stream",
     "text": [
      "[1, 2, 3, 4, 5, 6, 7, 8, 9, 10]\n"
     ]
    }
   ],
   "source": [
    "print(new)"
   ]
  },
  {
   "cell_type": "code",
   "execution_count": 100,
   "id": "a4496483-430b-4584-a1b9-59eac26f8fac",
   "metadata": {},
   "outputs": [
    {
     "ename": "AttributeError",
     "evalue": "'list' object has no attribute 'reshape'",
     "output_type": "error",
     "traceback": [
      "\u001b[1;31m---------------------------------------------------------------------------\u001b[0m",
      "\u001b[1;31mAttributeError\u001b[0m                            Traceback (most recent call last)",
      "Cell \u001b[1;32mIn[100], line 1\u001b[0m\n\u001b[1;32m----> 1\u001b[0m newArr \u001b[38;5;241m=\u001b[39m \u001b[43mnew\u001b[49m\u001b[38;5;241;43m.\u001b[39;49m\u001b[43mreshape\u001b[49m(\u001b[38;5;241m2\u001b[39m,\u001b[38;5;241m5\u001b[39m)\n",
      "\u001b[1;31mAttributeError\u001b[0m: 'list' object has no attribute 'reshape'"
     ]
    }
   ],
   "source": [
    "newArr = new.reshape(2,5)"
   ]
  },
  {
   "cell_type": "code",
   "execution_count": 101,
   "id": "13715d63-3680-45f1-9d68-cfb70584e111",
   "metadata": {},
   "outputs": [],
   "source": [
    "new = np.array([1,2,3,4,5,6,7,8,9,10])"
   ]
  },
  {
   "cell_type": "code",
   "execution_count": 102,
   "id": "8db930ef-718e-4a98-b4a6-affa2b7be6ed",
   "metadata": {},
   "outputs": [],
   "source": [
    "newArr = new.reshape(2,5)"
   ]
  },
  {
   "cell_type": "code",
   "execution_count": 103,
   "id": "d15d8c05-4df6-4946-a2dc-546e04eea1cc",
   "metadata": {},
   "outputs": [
    {
     "name": "stdout",
     "output_type": "stream",
     "text": [
      "[[ 1  2  3  4  5]\n",
      " [ 6  7  8  9 10]]\n"
     ]
    }
   ],
   "source": [
    "print(newArr)"
   ]
  },
  {
   "cell_type": "code",
   "execution_count": 105,
   "id": "40d8d18d-fbe6-4ec1-b35c-19eeb2a21434",
   "metadata": {},
   "outputs": [
    {
     "data": {
      "text/plain": [
       "array([[ 1,  2],\n",
       "       [ 3,  4],\n",
       "       [ 5,  6],\n",
       "       [ 7,  8],\n",
       "       [ 9, 10]])"
      ]
     },
     "execution_count": 105,
     "metadata": {},
     "output_type": "execute_result"
    }
   ],
   "source": [
    "new.reshape(5,2)"
   ]
  },
  {
   "cell_type": "code",
   "execution_count": 107,
   "id": "6892b0da-cbc3-4b51-a118-1aa55bc5a88e",
   "metadata": {},
   "outputs": [
    {
     "ename": "IndexError",
     "evalue": "index 10 is out of bounds for axis 0 with size 10",
     "output_type": "error",
     "traceback": [
      "\u001b[1;31m---------------------------------------------------------------------------\u001b[0m",
      "\u001b[1;31mIndexError\u001b[0m                                Traceback (most recent call last)",
      "Cell \u001b[1;32mIn[107], line 1\u001b[0m\n\u001b[1;32m----> 1\u001b[0m \u001b[43mnew\u001b[49m\u001b[43m[\u001b[49m\u001b[38;5;241;43m10\u001b[39;49m\u001b[43m]\u001b[49m\u001b[38;5;241m=\u001b[39m\u001b[38;5;241m11\u001b[39m\n",
      "\u001b[1;31mIndexError\u001b[0m: index 10 is out of bounds for axis 0 with size 10"
     ]
    }
   ],
   "source": [
    "new[10]=11"
   ]
  },
  {
   "cell_type": "code",
   "execution_count": 108,
   "id": "e74ef66c-0dce-4284-a90c-42c0839e1bf4",
   "metadata": {},
   "outputs": [],
   "source": [
    "newA = np.array([1,2,3,4,5,6,7,8,9,10,11,12])"
   ]
  },
  {
   "cell_type": "code",
   "execution_count": 109,
   "id": "78fc9010-9b57-479b-be2f-aa198671ed84",
   "metadata": {},
   "outputs": [
    {
     "name": "stdout",
     "output_type": "stream",
     "text": [
      "[[[ 1  2]\n",
      "  [ 3  4]\n",
      "  [ 5  6]]\n",
      "\n",
      " [[ 7  8]\n",
      "  [ 9 10]\n",
      "  [11 12]]]\n"
     ]
    }
   ],
   "source": [
    "print(newA.reshape(2,3,2))"
   ]
  },
  {
   "cell_type": "code",
   "execution_count": 110,
   "id": "c8e2bb26-e027-4e05-8b98-ad6374e3cf54",
   "metadata": {},
   "outputs": [
    {
     "name": "stdout",
     "output_type": "stream",
     "text": [
      "[[[ 1]]\n",
      "\n",
      " [[ 2]]\n",
      "\n",
      " [[ 3]]\n",
      "\n",
      " [[ 4]]\n",
      "\n",
      " [[ 5]]\n",
      "\n",
      " [[ 6]]\n",
      "\n",
      " [[ 7]]\n",
      "\n",
      " [[ 8]]\n",
      "\n",
      " [[ 9]]\n",
      "\n",
      " [[10]]\n",
      "\n",
      " [[11]]\n",
      "\n",
      " [[12]]]\n"
     ]
    }
   ],
   "source": [
    "print(newA.reshape(12,1,1))"
   ]
  },
  {
   "cell_type": "code",
   "execution_count": 111,
   "id": "6483fcb5-1414-44fc-824a-6192bc9d3a70",
   "metadata": {},
   "outputs": [
    {
     "name": "stdout",
     "output_type": "stream",
     "text": [
      "[ 1  2  3  4  5  6  7  8  9 10 11 12]\n"
     ]
    }
   ],
   "source": [
    "print(newA)"
   ]
  },
  {
   "cell_type": "code",
   "execution_count": 113,
   "id": "68cc9b63-d06f-4322-8a22-b4c691411497",
   "metadata": {},
   "outputs": [
    {
     "name": "stdout",
     "output_type": "stream",
     "text": [
      "[[ 1  2]\n",
      " [ 3  4]\n",
      " [ 5  6]\n",
      " [ 7  8]\n",
      " [ 9 10]\n",
      " [11 12]]\n"
     ]
    }
   ],
   "source": [
    "print(newA.reshape(6,2))"
   ]
  },
  {
   "cell_type": "code",
   "execution_count": 114,
   "id": "14e3390e-e97d-48b8-bf42-a860873b1e79",
   "metadata": {},
   "outputs": [
    {
     "name": "stdout",
     "output_type": "stream",
     "text": [
      "[[ 1  2  3]\n",
      " [ 4  5  6]\n",
      " [ 7  8  9]\n",
      " [10 11 12]]\n"
     ]
    }
   ],
   "source": [
    "print(newA.reshape(4,3))"
   ]
  },
  {
   "cell_type": "code",
   "execution_count": 115,
   "id": "bcd7cef4-85c5-45a6-933c-da55d09506b8",
   "metadata": {},
   "outputs": [
    {
     "name": "stdout",
     "output_type": "stream",
     "text": [
      "[[[ 1  2]\n",
      "  [ 3  4]\n",
      "  [ 5  6]]\n",
      "\n",
      " [[ 7  8]\n",
      "  [ 9 10]\n",
      "  [11 12]]]\n"
     ]
    }
   ],
   "source": [
    "print(newA.reshape(2,3,2))"
   ]
  },
  {
   "cell_type": "code",
   "execution_count": 116,
   "id": "f2e6fae2-28fa-4c42-80b6-cbb2f34f4f1d",
   "metadata": {},
   "outputs": [
    {
     "name": "stdout",
     "output_type": "stream",
     "text": [
      "[ 1  2  3  4  5  6  7  8  9 10 11 12]\n"
     ]
    }
   ],
   "source": [
    "print(newA.reshape(6,2).base)"
   ]
  },
  {
   "cell_type": "code",
   "execution_count": 120,
   "id": "4f02c3f7-6580-4cc5-b408-5759c0005722",
   "metadata": {},
   "outputs": [
    {
     "name": "stdout",
     "output_type": "stream",
     "text": [
      "[[[ 1]\n",
      "  [ 2]\n",
      "  [ 3]\n",
      "  [ 4]\n",
      "  [ 5]\n",
      "  [ 6]]\n",
      "\n",
      " [[ 7]\n",
      "  [ 8]\n",
      "  [ 9]\n",
      "  [10]\n",
      "  [11]\n",
      "  [12]]]\n"
     ]
    }
   ],
   "source": [
    "print(newA.reshape(2,6,-1))"
   ]
  },
  {
   "cell_type": "code",
   "execution_count": 121,
   "id": "c7571936-aa9a-4ae6-a19b-8cf03a1979de",
   "metadata": {},
   "outputs": [
    {
     "name": "stdout",
     "output_type": "stream",
     "text": [
      "[ 1  2  3  4  5  6  7  8  9 10 11 12]\n"
     ]
    }
   ],
   "source": [
    "print(newA.reshape(-1).base)"
   ]
  },
  {
   "cell_type": "code",
   "execution_count": 122,
   "id": "1f601e6a-f152-4789-b19b-0ad4ba4b39d9",
   "metadata": {},
   "outputs": [],
   "source": [
    "md = newA.reshape(2,3,2)"
   ]
  },
  {
   "cell_type": "code",
   "execution_count": 123,
   "id": "bbf403fc-b381-4224-bed3-8da7a387730e",
   "metadata": {},
   "outputs": [
    {
     "name": "stdout",
     "output_type": "stream",
     "text": [
      "[[[ 1  2]\n",
      "  [ 3  4]\n",
      "  [ 5  6]]\n",
      "\n",
      " [[ 7  8]\n",
      "  [ 9 10]\n",
      "  [11 12]]]\n"
     ]
    }
   ],
   "source": [
    "print(md)"
   ]
  },
  {
   "cell_type": "code",
   "execution_count": 127,
   "id": "1820b81f-2537-4df2-8052-2501e8f46651",
   "metadata": {},
   "outputs": [],
   "source": [
    "md = md.reshape(-1)"
   ]
  },
  {
   "cell_type": "code",
   "execution_count": 128,
   "id": "43eb9957-f019-41fe-b719-046fde3b3ae7",
   "metadata": {},
   "outputs": [
    {
     "name": "stdout",
     "output_type": "stream",
     "text": [
      "1\n",
      "2\n",
      "3\n",
      "4\n",
      "5\n",
      "6\n",
      "7\n",
      "8\n",
      "9\n",
      "10\n",
      "11\n",
      "12\n"
     ]
    }
   ],
   "source": [
    "for x in md:\n",
    "    print(x)"
   ]
  },
  {
   "cell_type": "code",
   "execution_count": 129,
   "id": "21506d13-c46e-46cc-9f6b-410a5e8c63f6",
   "metadata": {},
   "outputs": [
    {
     "name": "stdout",
     "output_type": "stream",
     "text": [
      "apple\n",
      "banana\n",
      "Kiwi\n",
      "mango\n"
     ]
    }
   ],
   "source": [
    "for x in fruits:\n",
    "    print(x)"
   ]
  },
  {
   "cell_type": "code",
   "execution_count": 130,
   "id": "78d489af-9e68-4951-978d-b52b0375f5d0",
   "metadata": {},
   "outputs": [],
   "source": [
    "fruits = fruits.reshape(2,2)"
   ]
  },
  {
   "cell_type": "code",
   "execution_count": 131,
   "id": "87e0ead0-6a31-4e5c-9e73-b366d23868f1",
   "metadata": {},
   "outputs": [
    {
     "name": "stdout",
     "output_type": "stream",
     "text": [
      "[['apple' 'banana']\n",
      " ['Kiwi' 'mango']]\n"
     ]
    }
   ],
   "source": [
    "print(fruits)"
   ]
  },
  {
   "cell_type": "code",
   "execution_count": 132,
   "id": "6e9418bf-8585-4976-bbf7-bef47f05b34c",
   "metadata": {},
   "outputs": [
    {
     "name": "stdout",
     "output_type": "stream",
     "text": [
      "['apple' 'banana']\n",
      "['Kiwi' 'mango']\n"
     ]
    }
   ],
   "source": [
    "for x in fruits:\n",
    "    print(x)"
   ]
  },
  {
   "cell_type": "code",
   "execution_count": 133,
   "id": "a2296b3d-2be3-4ede-891d-1b5f6dd9fa9d",
   "metadata": {},
   "outputs": [
    {
     "name": "stdout",
     "output_type": "stream",
     "text": [
      "apple\n",
      "banana\n",
      "Kiwi\n",
      "mango\n"
     ]
    }
   ],
   "source": [
    "for x in fruits:\n",
    "    for y in x:\n",
    "        print(y)"
   ]
  },
  {
   "cell_type": "code",
   "execution_count": 134,
   "id": "2ee1e6ab-ff4a-4f5e-b630-dfa31f910c53",
   "metadata": {},
   "outputs": [
    {
     "name": "stdout",
     "output_type": "stream",
     "text": [
      "[ 1  2  3  4  5  6  7  8  9 10 11 12]\n"
     ]
    }
   ],
   "source": [
    "print(newA)"
   ]
  },
  {
   "cell_type": "code",
   "execution_count": 138,
   "id": "fd886a6b-8ea4-49d7-88c6-6cf83bbd77d4",
   "metadata": {},
   "outputs": [],
   "source": [
    "newA = newA.reshape(2,3,2)"
   ]
  },
  {
   "cell_type": "raw",
   "id": "3e1e0d48-759f-4444-b08a-5da9430e91e0",
   "metadata": {},
   "source": [
    "print(newA)"
   ]
  },
  {
   "cell_type": "code",
   "execution_count": 139,
   "id": "fb88d30c-e899-476f-a9d9-3a734c85aa2c",
   "metadata": {},
   "outputs": [
    {
     "name": "stdout",
     "output_type": "stream",
     "text": [
      "[[[ 1  2]\n",
      "  [ 3  4]\n",
      "  [ 5  6]]\n",
      "\n",
      " [[ 7  8]\n",
      "  [ 9 10]\n",
      "  [11 12]]]\n"
     ]
    }
   ],
   "source": [
    "print(newA)"
   ]
  },
  {
   "cell_type": "code",
   "execution_count": 141,
   "id": "2146bfde-6fe9-46b0-8cea-58b9e23abe9a",
   "metadata": {},
   "outputs": [
    {
     "name": "stdout",
     "output_type": "stream",
     "text": [
      "[1 2]\n",
      "[3 4]\n",
      "[5 6]\n",
      "[7 8]\n",
      "[ 9 10]\n",
      "[11 12]\n"
     ]
    }
   ],
   "source": [
    "for x in newA:\n",
    "    for y in x:\n",
    "        #for z in y:\n",
    "            print(y)"
   ]
  },
  {
   "cell_type": "code",
   "execution_count": 142,
   "id": "319a38b1-4117-438a-8f85-4e47a0792847",
   "metadata": {},
   "outputs": [
    {
     "data": {
      "text/plain": [
       "array([[[ 1,  2],\n",
       "        [ 3,  4],\n",
       "        [ 5,  6]],\n",
       "\n",
       "       [[ 7,  8],\n",
       "        [ 9, 10],\n",
       "        [11, 12]]])"
      ]
     },
     "execution_count": 142,
     "metadata": {},
     "output_type": "execute_result"
    }
   ],
   "source": [
    "newA"
   ]
  },
  {
   "cell_type": "code",
   "execution_count": 144,
   "id": "23a9b8d7-1797-4859-9b1e-6f39e39a527c",
   "metadata": {},
   "outputs": [
    {
     "name": "stdout",
     "output_type": "stream",
     "text": [
      "1\n",
      "2\n",
      "3\n",
      "4\n",
      "5\n",
      "6\n",
      "7\n",
      "8\n",
      "9\n",
      "10\n",
      "11\n",
      "12\n"
     ]
    }
   ],
   "source": [
    "for x in np.nditer(newA):\n",
    "    print(x)"
   ]
  },
  {
   "cell_type": "code",
   "execution_count": null,
   "id": "e740ede7-9c9a-438f-b488-88d9aa64f904",
   "metadata": {},
   "outputs": [],
   "source": []
  }
 ],
 "metadata": {
  "kernelspec": {
   "display_name": "Python 3 (ipykernel)",
   "language": "python",
   "name": "python3"
  },
  "language_info": {
   "codemirror_mode": {
    "name": "ipython",
    "version": 3
   },
   "file_extension": ".py",
   "mimetype": "text/x-python",
   "name": "python",
   "nbconvert_exporter": "python",
   "pygments_lexer": "ipython3",
   "version": "3.12.4"
  }
 },
 "nbformat": 4,
 "nbformat_minor": 5
}
